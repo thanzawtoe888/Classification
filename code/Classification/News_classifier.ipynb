{
 "cells": [
  {
   "cell_type": "code",
   "execution_count": 9,
   "metadata": {},
   "outputs": [
    {
     "name": "stdout",
     "output_type": "stream",
     "text": [
      "(4846, 10070)\n"
     ]
    }
   ],
   "source": [
    "import pandas as pd\n",
    "from sklearn.feature_extraction.text import TfidfVectorizer\n",
    "from sklearn.model_selection import train_test_split\n",
    "import scipy.sparse as sp\n",
    "\n",
    "# Load your dataset\n",
    "df = pd.read_csv('..\\\\data\\\\news_data.csv',  encoding='latin-1', header=None)\n",
    "df.columns = ['class', 'news']\n",
    "#label_mapping = {'positive': 1, 'negative': -1, 'neutral': 0}\n",
    "#df['class'] = df['class'].map(label_mapping)\n",
    "\n",
    "\n",
    "vectorizer = TfidfVectorizer() #max_features=1000\n",
    "\n",
    "X = vectorizer.fit_transform(df['news'])\n",
    "y = df['class']\n",
    "\n",
    "print(X.shape)"
   ]
  },
  {
   "cell_type": "code",
   "execution_count": 10,
   "metadata": {},
   "outputs": [
    {
     "data": {
      "text/plain": [
       "(1939, 10070)"
      ]
     },
     "execution_count": 10,
     "metadata": {},
     "output_type": "execute_result"
    }
   ],
   "source": [
    "from sklearn.model_selection import train_test_split\n",
    "X_train, X_test, y_train, y_test = train_test_split(X,y, \n",
    "                                    test_size = 0.40, \n",
    "                                    random_state=1)\n",
    "X_test.shape"
   ]
  },
  {
   "cell_type": "code",
   "execution_count": 11,
   "metadata": {},
   "outputs": [
    {
     "name": "stdout",
     "output_type": "stream",
     "text": [
      "[[  67    2  178]\n",
      " [  47   77 1006]\n",
      " [  42    4  516]]\n",
      "              precision    recall  f1-score   support\n",
      "\n",
      "    negative       0.43      0.27      0.33       247\n",
      "     neutral       0.93      0.07      0.13      1130\n",
      "    positive       0.30      0.92      0.46       562\n",
      "\n",
      "    accuracy                           0.34      1939\n",
      "   macro avg       0.55      0.42      0.31      1939\n",
      "weighted avg       0.68      0.34      0.25      1939\n",
      "\n"
     ]
    },
    {
     "name": "stderr",
     "output_type": "stream",
     "text": [
      "c:\\Users\\User\\anaconda3\\lib\\site-packages\\sklearn\\neighbors\\_classification.py:228: FutureWarning: Unlike other reduction functions (e.g. `skew`, `kurtosis`), the default behavior of `mode` typically preserves the axis it acts along. In SciPy 1.11.0, this behavior will change: the default value of `keepdims` will become False, the `axis` over which the statistic is taken will be eliminated, and the value None will no longer be accepted. Set `keepdims` to True or False to avoid this warning.\n",
      "  mode, _ = stats.mode(_y[neigh_ind, k], axis=1)\n"
     ]
    }
   ],
   "source": [
    "#--------------------------------------------------\n",
    "## ----------- K-NN Classifier ------------------## \n",
    "#--------------------------------------------------\n",
    "from sklearn.preprocessing import StandardScaler\n",
    "from sklearn.pipeline import Pipeline\n",
    "from sklearn.neighbors import KNeighborsClassifier\n",
    "from sklearn.metrics import classification_report\n",
    "from sklearn.metrics import confusion_matrix\n",
    "from sklearn.metrics import roc_auc_score\n",
    "\n",
    "steps = [('scaler', StandardScaler(with_mean=False)),         \n",
    "         ('knn', KNeighborsClassifier(n_neighbors = 3))]\n",
    "\n",
    "knn_pipeline = Pipeline(steps)\n",
    "knn_pipeline.fit(X_train, y_train)\n",
    "\n",
    "ypred_test = knn_pipeline.predict(X_test)\n",
    "mat_clf = confusion_matrix(y_test, ypred_test)\n",
    "report_clf = classification_report(y_test, ypred_test)\n",
    "\n",
    "print(mat_clf)\n",
    "print(report_clf)"
   ]
  },
  {
   "cell_type": "code",
   "execution_count": 15,
   "metadata": {},
   "outputs": [
    {
     "name": "stdout",
     "output_type": "stream",
     "text": [
      "[[ 245    0    2]\n",
      " [1061   27   42]\n",
      " [ 501    0   61]]\n",
      "              precision    recall  f1-score   support\n",
      "\n",
      "    negative       0.14      0.99      0.24       247\n",
      "     neutral       1.00      0.02      0.05      1130\n",
      "    positive       0.58      0.11      0.18       562\n",
      "\n",
      "    accuracy                           0.17      1939\n",
      "   macro avg       0.57      0.37      0.16      1939\n",
      "weighted avg       0.77      0.17      0.11      1939\n",
      "\n"
     ]
    }
   ],
   "source": [
    "from sklearn.naive_bayes import GaussianNB\n",
    "gnb = GaussianNB(var_smoothing=0.3)\n",
    "gnb.fit(X_train.toarray(), y_train)\n",
    "\n",
    "ypred_test = gnb.predict(X_test.toarray())\n",
    "ypred_test_prob = gnb.predict_proba(X_test.toarray())\n",
    "mat_clf = confusion_matrix(y_test, ypred_test)\n",
    "report_clf = classification_report(y_test, ypred_test)\n",
    "\n",
    "print(mat_clf)\n",
    "print(report_clf)"
   ]
  },
  {
   "cell_type": "code",
   "execution_count": null,
   "metadata": {},
   "outputs": [],
   "source": []
  }
 ],
 "metadata": {
  "kernelspec": {
   "display_name": "base",
   "language": "python",
   "name": "python3"
  },
  "language_info": {
   "codemirror_mode": {
    "name": "ipython",
    "version": 3
   },
   "file_extension": ".py",
   "mimetype": "text/x-python",
   "name": "python",
   "nbconvert_exporter": "python",
   "pygments_lexer": "ipython3",
   "version": "3.9.13"
  }
 },
 "nbformat": 4,
 "nbformat_minor": 2
}
