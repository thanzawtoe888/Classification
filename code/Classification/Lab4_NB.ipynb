{
 "cells": [
  {
   "cell_type": "code",
   "execution_count": 5,
   "metadata": {},
   "outputs": [],
   "source": [
    "import pandas as pd\n",
    "\n",
    "df=pd.read_csv('..\\\\..\\\\data\\\\mm_names.csv', index_col = 0)\n",
    "\n",
    "df.dropna(inplace=True)\n",
    "df['Name'] = df['Name'].str.lower().replace(' ', '_')\n",
    "df['Gender'] = df['Gender'].map({'Male': 0, 'Female': 1})"
   ]
  },
  {
   "cell_type": "code",
   "execution_count": 6,
   "metadata": {},
   "outputs": [],
   "source": [
    "from sklearn.model_selection import train_test_split\n",
    "\n",
    "X_train, X_test, y_train, y_test = train_test_split(df['Name'], df['Gender'], test_size=0.2, random_state=42)"
   ]
  },
  {
   "cell_type": "code",
   "execution_count": 7,
   "metadata": {},
   "outputs": [
    {
     "name": "stdout",
     "output_type": "stream",
     "text": [
      "Accuracy: 0.5\n",
      "F1 Score: 0.0\n",
      "Precision: 0.0\n",
      "Recall: 0.0\n"
     ]
    },
    {
     "name": "stderr",
     "output_type": "stream",
     "text": [
      "c:\\Users\\thanz\\AppData\\Local\\Programs\\Python\\Python311\\Lib\\site-packages\\sklearn\\metrics\\_classification.py:1509: UndefinedMetricWarning: Precision is ill-defined and being set to 0.0 due to no predicted samples. Use `zero_division` parameter to control this behavior.\n",
      "  _warn_prf(average, modifier, f\"{metric.capitalize()} is\", len(result))\n"
     ]
    }
   ],
   "source": [
    "import numpy as np\n",
    "from sklearn.base import TransformerMixin\n",
    "from sklearn.feature_extraction.text import CountVectorizer, TfidfTransformer\n",
    "from sklearn.naive_bayes import GaussianNB\n",
    "from sklearn.pipeline import Pipeline, FeatureUnion\n",
    "from sklearn.metrics import accuracy_score, f1_score, precision_score, recall_score\n",
    "\n",
    "# steps = [('vect', CountVectorizer(ngram_range=(1, 2))),  # Include unigrams and bigrams\n",
    "#          ('tfidf', TfidfTransformer()),  # Apply TF-IDF transformation, \n",
    "#          ('NB', GaussianNB())]\n",
    "\n",
    "# gnb_pipeline = Pipeline(steps)\n",
    "# gnb_pipeline.fit(X_train, y_train)\n",
    "\n",
    "class DenseTransformer(TransformerMixin):\n",
    "    def fit(self, X, y=None, **fit_params):\n",
    "        return self\n",
    "\n",
    "    def transform(self, X, y=None, **fit_params):\n",
    "        return X.toarray()\n",
    "\n",
    "steps = [\n",
    "    ('vect', CountVectorizer(ngram_range=(1, 3))),  # Include unigrams and bigrams\n",
    "    ('tfidf', TfidfTransformer()),  # Apply TF-IDF transformation\n",
    "    ('to_dense', DenseTransformer()),  # Convert sparse matrix to dense\n",
    "    ('NB', GaussianNB())  # Gaussian Naive Bayes\n",
    "]\n",
    "\n",
    "gnb_pipeline = Pipeline(steps)\n",
    "\n",
    "# Example data (replace X_train and y_train with your actual data)\n",
    "X_train = [\"sample text data\"] * 10\n",
    "y_train = [0, 1] * 5\n",
    "\n",
    "gnb_pipeline.fit(X_train, y_train)\n",
    "\n",
    "# To evaluate the model\n",
    "X_test = [\"sample test data\"] * 2\n",
    "y_test = [0, 1]\n",
    "\n",
    "y_pred = gnb_pipeline.predict(X_test)\n",
    "accuracy = accuracy_score(y_test, y_pred)\n",
    "f1 = f1_score(y_test, y_pred)\n",
    "precision = precision_score(y_test, y_pred)\n",
    "recall = recall_score(y_test, y_pred)\n",
    "\n",
    "print(f\"Accuracy: {accuracy}\")\n",
    "print(f\"F1 Score: {f1}\")\n",
    "print(f\"Precision: {precision}\")\n",
    "print(f\"Recall: {recall}\")"
   ]
  },
  {
   "cell_type": "code",
   "execution_count": 8,
   "metadata": {},
   "outputs": [
    {
     "name": "stdout",
     "output_type": "stream",
     "text": [
      "Accuracy Score: 0.5\n",
      "Predicted gender: male\n"
     ]
    }
   ],
   "source": [
    "# Predict the gender for the test data\n",
    "y_pred = gnb_pipeline.predict(X_test)\n",
    "accuracy = accuracy_score(y_test, y_pred)\n",
    "print(\"Accuracy Score:\", accuracy)\n",
    "\n",
    "name = \"Than Zaw Toe\"  # Replace with the name you want to predict\n",
    "y_pred = gnb_pipeline.predict([name])[0]\n",
    "gender = pd.Series(y_pred).map({0: 'male', 1: 'female'}).to_string().split()[1]\n",
    "\n",
    "print(\"Predicted gender:\", gender)"
   ]
  }
 ],
 "metadata": {
  "kernelspec": {
   "display_name": "Python 3",
   "language": "python",
   "name": "python3"
  },
  "language_info": {
   "codemirror_mode": {
    "name": "ipython",
    "version": 3
   },
   "file_extension": ".py",
   "mimetype": "text/x-python",
   "name": "python",
   "nbconvert_exporter": "python",
   "pygments_lexer": "ipython3",
   "version": "3.11.9"
  },
  "orig_nbformat": 4,
  "vscode": {
   "interpreter": {
    "hash": "ebfc0a8d552866b0d59eba665220a57de3bc06f3ac643b8bef38dd8f66781fdd"
   }
  }
 },
 "nbformat": 4,
 "nbformat_minor": 2
}
