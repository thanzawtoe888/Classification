{
 "cells": [
  {
   "cell_type": "code",
   "execution_count": 16,
   "metadata": {},
   "outputs": [
    {
     "data": {
      "text/html": [
       "<div>\n",
       "<style scoped>\n",
       "    .dataframe tbody tr th:only-of-type {\n",
       "        vertical-align: middle;\n",
       "    }\n",
       "\n",
       "    .dataframe tbody tr th {\n",
       "        vertical-align: top;\n",
       "    }\n",
       "\n",
       "    .dataframe thead th {\n",
       "        text-align: right;\n",
       "    }\n",
       "</style>\n",
       "<table border=\"1\" class=\"dataframe\">\n",
       "  <thead>\n",
       "    <tr style=\"text-align: right;\">\n",
       "      <th></th>\n",
       "      <th>Name</th>\n",
       "      <th>Gender</th>\n",
       "    </tr>\n",
       "  </thead>\n",
       "  <tbody>\n",
       "    <tr>\n",
       "      <th>0</th>\n",
       "      <td>aungkyi</td>\n",
       "      <td>1</td>\n",
       "    </tr>\n",
       "    <tr>\n",
       "      <th>1</th>\n",
       "      <td>aungmay</td>\n",
       "      <td>1</td>\n",
       "    </tr>\n",
       "    <tr>\n",
       "      <th>2</th>\n",
       "      <td>aye</td>\n",
       "      <td>1</td>\n",
       "    </tr>\n",
       "    <tr>\n",
       "      <th>3</th>\n",
       "      <td>ayeaye</td>\n",
       "      <td>1</td>\n",
       "    </tr>\n",
       "    <tr>\n",
       "      <th>4</th>\n",
       "      <td>ayeayeaung</td>\n",
       "      <td>1</td>\n",
       "    </tr>\n",
       "  </tbody>\n",
       "</table>\n",
       "</div>"
      ],
      "text/plain": [
       "         Name  Gender\n",
       "0     aungkyi       1\n",
       "1     aungmay       1\n",
       "2         aye       1\n",
       "3      ayeaye       1\n",
       "4  ayeayeaung       1"
      ]
     },
     "execution_count": 16,
     "metadata": {},
     "output_type": "execute_result"
    }
   ],
   "source": [
    "import pandas as pd\n",
    "\n",
    "df = pd.read_csv('../data/mm_names.csv',index_col=0)\n",
    "df.dropna(inplace=True)\n",
    "df['Name'] = df['Name'].str.lower().replace(' ', '_')\n",
    "df['Gender'] = df['Gender'].map({'Male': 0, 'Female': 1})\n",
    "# female_data = df[df['Gender'] == 'Female']\n",
    "# female_data.shape\n",
    "df.head()"
   ]
  },
  {
   "cell_type": "code",
   "execution_count": 17,
   "metadata": {},
   "outputs": [
    {
     "name": "stdout",
     "output_type": "stream",
     "text": [
      "Accuracy Score: 0.48262910798122066\n",
      "Predicted gender: female\n"
     ]
    }
   ],
   "source": [
    "from sklearn.feature_extraction.text import CountVectorizer\n",
    "from sklearn.feature_extraction.text import TfidfTransformer\n",
    "import matplotlib.pyplot as plt\n",
    "from sklearn.preprocessing import LabelEncoder\n",
    "from sklearn.metrics import roc_curve, roc_auc_score\n",
    "from sklearn.model_selection import train_test_split\n",
    "from sklearn.naive_bayes import MultinomialNB\n",
    "from sklearn.pipeline import Pipeline\n",
    "from sklearn.metrics import accuracy_score, f1_score, precision_score, recall_score\n",
    "\n",
    "# Split the data into training and testing sets\n",
    "X_train, X_test, y_train, y_test = train_test_split(df['Name'], df['Gender'], test_size=0.2, random_state=42)\n",
    "\n",
    "# Create a pipeline\n",
    "pipeline = Pipeline([\n",
    "    ('vect', CountVectorizer(ngram_range=(1, 3))),  # Include unigrams and bigrams\n",
    "    ('tfidf', TfidfTransformer()),  # Apply TF-IDF transformation\n",
    "    ('clf', MultinomialNB(alpha=0.6))  # Adjust alpha parameter for smoothing\n",
    "])\n",
    "\n",
    "# Fit the pipeline on the training data\n",
    "pipeline.fit(X_train, y_train)\n",
    "\n",
    "# Predict the gender for the test data\n",
    "y_pred = pipeline.predict(X_test)\n",
    "accuracy = accuracy_score(y_test, y_pred)\n",
    "print(\"Accuracy Score:\", accuracy)\n",
    "\n",
    "name = \"Than Zaw Toe\"  # Replace with the name you want to predict\n",
    "y_pred = pipeline.predict([name])[0]\n",
    "gender = pd.Series(y_pred).map({0: 'male', 1: 'female'}).to_string().split()[1]\n",
    "\n",
    "print(\"Predicted gender:\", gender)"
   ]
  },
  {
   "cell_type": "code",
   "execution_count": null,
   "metadata": {},
   "outputs": [],
   "source": []
  },
  {
   "cell_type": "code",
   "execution_count": 18,
   "metadata": {},
   "outputs": [
    {
     "name": "stdout",
     "output_type": "stream",
     "text": [
      "Confusion Matrix\n",
      "[[513  81]\n",
      " [470   1]]\n",
      "\n",
      "Classificaton Report\n",
      "              precision    recall  f1-score   support\n",
      "\n",
      "           0       0.52      0.86      0.65       594\n",
      "           1       0.01      0.00      0.00       471\n",
      "\n",
      "    accuracy                           0.48      1065\n",
      "   macro avg       0.27      0.43      0.33      1065\n",
      "weighted avg       0.30      0.48      0.36      1065\n",
      "\n",
      "0.3732870102296854\n"
     ]
    }
   ],
   "source": [
    "from sklearn.metrics import classification_report, confusion_matrix, roc_auc_score, roc_curve, auc\n",
    "\n",
    "\n",
    "ypred_test = pipeline.predict(X_test)\n",
    "mat_clf = confusion_matrix(y_test, ypred_test)\n",
    "report_clf = classification_report(y_test, ypred_test)\n",
    "\n",
    "print(\"Confusion Matrix\")\n",
    "print(mat_clf)\n",
    "print(\"\\nClassificaton Report\")\n",
    "print(report_clf)\n",
    "\n",
    "ypred_testP = pipeline.predict_proba(X_test)\n",
    "auc = roc_auc_score(y_test, ypred_testP[:,1])\n",
    "print(auc)"
   ]
  },
  {
   "cell_type": "code",
   "execution_count": 19,
   "metadata": {},
   "outputs": [
    {
     "name": "stdout",
     "output_type": "stream",
     "text": [
      "[[2426    0]\n",
      " [ 238 1594]]\n",
      "              precision    recall  f1-score   support\n",
      "\n",
      "           0       0.91      1.00      0.95      2426\n",
      "           1       1.00      0.87      0.93      1832\n",
      "\n",
      "    accuracy                           0.94      4258\n",
      "   macro avg       0.96      0.94      0.94      4258\n",
      "weighted avg       0.95      0.94      0.94      4258\n",
      "\n",
      "0.99362753215709\n"
     ]
    }
   ],
   "source": [
    "ypred_train = pipeline.predict(X_train)\n",
    "mat_clf = confusion_matrix(y_train, ypred_train)\n",
    "report_clf = classification_report(y_train, ypred_train)\n",
    "\n",
    "print(mat_clf)\n",
    "print(report_clf)\n",
    "\n",
    "ypred_trainP = pipeline.predict_proba(X_train)\n",
    "auc = roc_auc_score(y_train, ypred_trainP[:,1])\n",
    "print(auc)"
   ]
  }
 ],
 "metadata": {
  "kernelspec": {
   "display_name": ".venv",
   "language": "python",
   "name": "python3"
  },
  "language_info": {
   "codemirror_mode": {
    "name": "ipython",
    "version": 3
   },
   "file_extension": ".py",
   "mimetype": "text/x-python",
   "name": "python",
   "nbconvert_exporter": "python",
   "pygments_lexer": "ipython3",
   "version": "3.11.9"
  }
 },
 "nbformat": 4,
 "nbformat_minor": 2
}
